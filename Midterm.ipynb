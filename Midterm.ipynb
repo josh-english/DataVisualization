{
  "nbformat": 4,
  "nbformat_minor": 0,
  "metadata": {
    "colab": {
      "name": "Midterm.ipynb",
      "version": "0.3.2",
      "provenance": [],
      "collapsed_sections": [],
      "include_colab_link": true
    },
    "kernelspec": {
      "name": "python3",
      "display_name": "Python 3"
    }
  },
  "cells": [
    {
      "cell_type": "markdown",
      "metadata": {
        "id": "view-in-github",
        "colab_type": "text"
      },
      "source": [
        "<a href=\"https://colab.research.google.com/github/josh-english/DataVisualization/blob/master/Midterm.ipynb\" target=\"_parent\"><img src=\"https://colab.research.google.com/assets/colab-badge.svg\" alt=\"Open In Colab\"/></a>"
      ]
    },
    {
      "metadata": {
        "id": "rBZ5BcXERZbG",
        "colab_type": "text"
      },
      "cell_type": "markdown",
      "source": [
        "# Step 1 - Data Preprocessing"
      ]
    },
    {
      "metadata": {
        "id": "WQI0ZPU_lLqD",
        "colab_type": "text"
      },
      "cell_type": "markdown",
      "source": [
        "## Description"
      ]
    },
    {
      "metadata": {
        "id": "WqnLItmPlQ8Z",
        "colab_type": "text"
      },
      "cell_type": "markdown",
      "source": [
        "Preprocess 20 Newsgroup dataset as corpus and visualize its statistical information. (10’)"
      ]
    },
    {
      "metadata": {
        "id": "G5mYJ8w1RkoQ",
        "colab_type": "text"
      },
      "cell_type": "markdown",
      "source": [
        "## Get the Data"
      ]
    },
    {
      "metadata": {
        "id": "_2y5jjQCRNLX",
        "colab_type": "code",
        "outputId": "1b844981-3558-4770-9e83-35ed890cc5f8",
        "colab": {
          "base_uri": "https://localhost:8080/",
          "height": 289
        }
      },
      "cell_type": "code",
      "source": [
        "# get data from gensim\n",
        "import gensim.downloader as api\n",
        "\n",
        "print(api.load(\"20-newsgroups\", return_path=False))\n",
        "PATH = \"/root/gensim-data/20-newsgroups/20-newsgroups.gz\"\n",
        "\n",
        "# unzip data to pandas dataframe\n",
        "import pandas as pd\n",
        "df = pd.read_json(PATH, lines=True, compression=\"gzip\")\n",
        "\n",
        "print(df.shape)\n",
        "print(df[0:5])"
      ],
      "execution_count": 1,
      "outputs": [
        {
          "output_type": "stream",
          "text": [
            "[==================================================] 100.1% 13.8/13.8MB downloaded\n",
            "<20-newsgroups.Dataset object at 0x7fa2610cb7b8>\n",
            "(18846, 4)\n",
            "                                                data     id    set  \\\n",
            "0  From: db7n+@andrew.cmu.edu (D. Andrew Byler)\\n...  21408  train   \n",
            "1  From: mpaul@unl.edu (marxhausen paul)\\nSubject...  21388  train   \n",
            "2  From: eggertj@moses.atc.ll.mit.edu (Jim Eggert...  20600  train   \n",
            "3  From: tas@pegasus.com (Len Howard)\\nSubject: R...  20820  train   \n",
            "4  From: db7n+@andrew.cmu.edu (D. Andrew Byler)\\n...  21335  train   \n",
            "\n",
            "                    topic  \n",
            "0  soc.religion.christian  \n",
            "1  soc.religion.christian  \n",
            "2  soc.religion.christian  \n",
            "3  soc.religion.christian  \n",
            "4  soc.religion.christian  \n"
          ],
          "name": "stdout"
        }
      ]
    },
    {
      "metadata": {
        "id": "CbaLZ7PjeDBZ",
        "colab_type": "text"
      },
      "cell_type": "markdown",
      "source": [
        "## Alternatively"
      ]
    },
    {
      "metadata": {
        "id": "SeGA1wVneFgX",
        "colab_type": "code",
        "outputId": "6acbc0f6-400a-4f5e-c844-00e05ed57182",
        "colab": {
          "base_uri": "https://localhost:8080/",
          "height": 136
        }
      },
      "cell_type": "code",
      "source": [
        "# from: https://scikit-learn.org/stable/tutorial/text_analytics/working_with_text_data.html\n",
        "from sklearn.datasets import fetch_20newsgroups\n",
        "twenty_train = fetch_20newsgroups(subset='all', shuffle=True, random_state=42)\n",
        "\n",
        "twenty_train.target_names\n",
        "len(twenty_train.data)\n",
        "len(twenty_train.filenames)\n",
        "\n",
        "print(\"\\n\".join(twenty_train.data[0].split(\"\\n\")[:3]))\n",
        "print(\"\\n\" + twenty_train.target_names[twenty_train.target[0]])"
      ],
      "execution_count": 2,
      "outputs": [
        {
          "output_type": "stream",
          "text": [
            "Downloading 20news dataset. This may take a few minutes.\n",
            "Downloading dataset from https://ndownloader.figshare.com/files/5975967 (14 MB)\n"
          ],
          "name": "stderr"
        },
        {
          "output_type": "stream",
          "text": [
            "From: Mamatha Devineni Ratnam <mr47+@andrew.cmu.edu>\n",
            "Subject: Pens fans reactions\n",
            "Organization: Post Office, Carnegie Mellon, Pittsburgh, PA\n",
            "\n",
            "rec.sport.hockey\n"
          ],
          "name": "stdout"
        }
      ]
    },
    {
      "metadata": {
        "id": "s8tdhF5sj1I7",
        "colab_type": "text"
      },
      "cell_type": "markdown",
      "source": [
        "# Step 2 - Vocabularies from BoW and TF-IDF"
      ]
    },
    {
      "metadata": {
        "id": "vnzJKTmmlV6z",
        "colab_type": "text"
      },
      "cell_type": "markdown",
      "source": [
        "## Description"
      ]
    },
    {
      "metadata": {
        "id": "ou6tzM3tlX3H",
        "colab_type": "text"
      },
      "cell_type": "markdown",
      "source": [
        "Build two different vocabularies upon different preprocessing ways; Learn Bag-of-words (BoW) and TF-IDF model with each vocabulary accordingly. (10’)"
      ]
    },
    {
      "metadata": {
        "id": "OTCcqSekj9qU",
        "colab_type": "code",
        "colab": {}
      },
      "cell_type": "code",
      "source": [
        ""
      ],
      "execution_count": 0,
      "outputs": []
    },
    {
      "metadata": {
        "id": "Ub-qaPygkLAD",
        "colab_type": "text"
      },
      "cell_type": "markdown",
      "source": [
        "# Step 3 - 2 LDA Models"
      ]
    },
    {
      "metadata": {
        "id": "Nt_LpqdDldr7",
        "colab_type": "text"
      },
      "cell_type": "markdown",
      "source": [
        "## Description"
      ]
    },
    {
      "metadata": {
        "id": "VnCXA9tLlgA3",
        "colab_type": "text"
      },
      "cell_type": "markdown",
      "source": [
        "Train two LDA models upon the vocabularies in Step 2; Visualize topics with four different methods; and eventually get the topic distribution (as feature) for each document. (20’)"
      ]
    },
    {
      "metadata": {
        "id": "QsG2IAeOkWDH",
        "colab_type": "code",
        "colab": {}
      },
      "cell_type": "code",
      "source": [
        ""
      ],
      "execution_count": 0,
      "outputs": []
    },
    {
      "metadata": {
        "id": "ysNlkkVvkYCa",
        "colab_type": "text"
      },
      "cell_type": "markdown",
      "source": [
        "# Step 4 - 2 Doc2Vec Models"
      ]
    },
    {
      "metadata": {
        "id": "bhbsApiglreT",
        "colab_type": "text"
      },
      "cell_type": "markdown",
      "source": [
        "## Decsription"
      ]
    },
    {
      "metadata": {
        "id": "QnpLuws2lweO",
        "colab_type": "text"
      },
      "cell_type": "markdown",
      "source": [
        "Train two Doc2Vec models upon the vocabularies in Step 2; Visualize your leaned word and document embedding space; Collect Doc2Vec representation of each document. (20’)"
      ]
    },
    {
      "metadata": {
        "id": "xJ8q--IOkmo0",
        "colab_type": "code",
        "colab": {}
      },
      "cell_type": "code",
      "source": [
        ""
      ],
      "execution_count": 0,
      "outputs": []
    },
    {
      "metadata": {
        "id": "JGPhGDFYkm-z",
        "colab_type": "text"
      },
      "cell_type": "markdown",
      "source": [
        "# Step 5 - Clustering (BoW, TF-IDF, Topic Distribution, and Doc2Vec)"
      ]
    },
    {
      "metadata": {
        "id": "tkHm_JRSly2h",
        "colab_type": "text"
      },
      "cell_type": "markdown",
      "source": [
        "## Decsription"
      ]
    },
    {
      "metadata": {
        "id": "mvq4XR8El0_P",
        "colab_type": "text"
      },
      "cell_type": "markdown",
      "source": [
        "Conduct document clustering by K-means with four different doc. representations: 1) BoW; 2) TF-IDF; 3) Topics distribution; and 4) Doc2Vec. Compare different results by Normalized Mutual Information (NMI) and visualize the clustering results. (20’)"
      ]
    },
    {
      "metadata": {
        "id": "l64bMLyfk6g5",
        "colab_type": "code",
        "colab": {}
      },
      "cell_type": "code",
      "source": [
        ""
      ],
      "execution_count": 0,
      "outputs": []
    },
    {
      "metadata": {
        "id": "KgKrDwNxk9og",
        "colab_type": "text"
      },
      "cell_type": "markdown",
      "source": [
        "# Step 6 - Analysis"
      ]
    },
    {
      "metadata": {
        "id": "cVNJR-OWl9Ky",
        "colab_type": "text"
      },
      "cell_type": "markdown",
      "source": [
        "## Description"
      ]
    },
    {
      "metadata": {
        "id": "TQw8TujTl_Kf",
        "colab_type": "text"
      },
      "cell_type": "markdown",
      "source": [
        "Do experiment analysis from the following aspects: 1) Impact of different preprocessing ways (e.g., how to filter vocabulary; using n-gram model); 2) Impact of different topic numbers; and 3) Different training methods for Doc2Vec; 4) What’s the key factor for doc. visualization? (20’)"
      ]
    },
    {
      "metadata": {
        "id": "gQYr3giAlBLM",
        "colab_type": "code",
        "colab": {}
      },
      "cell_type": "code",
      "source": [
        ""
      ],
      "execution_count": 0,
      "outputs": []
    },
    {
      "metadata": {
        "id": "4AamNjVmmXd2",
        "colab_type": "text"
      },
      "cell_type": "markdown",
      "source": [
        "# Step 7 - Presentation"
      ]
    },
    {
      "metadata": {
        "id": "spc9eP3Imawb",
        "colab_type": "text"
      },
      "cell_type": "markdown",
      "source": [
        "## Description"
      ]
    },
    {
      "metadata": {
        "id": "XCZ-hPg-mc_h",
        "colab_type": "text"
      },
      "cell_type": "markdown",
      "source": [
        "Every group is required to give a presentation with slides in our class. The presentation time is about 5-10 minutes. Each talk should include the following contents.\n",
        "1) Introduction to your group members and team assignments.\n",
        "2) A clear illustration for your project workflow.\n",
        "3) All the experimental results you have obtained with some necessary experimental analyses.\n",
        "4) A live demo for your visualization result. For example, a demo for visualizing different topics, or\n",
        "displaying your word/doc embedding space. (Jupyter Notebook is recommended.)"
      ]
    },
    {
      "metadata": {
        "id": "OttqxpbRmZul",
        "colab_type": "code",
        "colab": {}
      },
      "cell_type": "code",
      "source": [
        ""
      ],
      "execution_count": 0,
      "outputs": []
    },
    {
      "metadata": {
        "id": "Gy43ufUlmnBW",
        "colab_type": "text"
      },
      "cell_type": "markdown",
      "source": [
        "# Step 8 - Report"
      ]
    },
    {
      "metadata": {
        "id": "PzvYCgkkmpv3",
        "colab_type": "text"
      },
      "cell_type": "markdown",
      "source": [
        "## Description"
      ]
    },
    {
      "metadata": {
        "id": "5f3oval5mrmm",
        "colab_type": "text"
      },
      "cell_type": "markdown",
      "source": [
        "The final submission is required as follows.\n",
        "1) A two-page pdf report including 1) a brief introduction to the project and your method; 2) all the\n",
        "necessary results and analyses; 3) references for the tools and papers you used in this work.\n",
        "2) A package file including all your source codes and visualization results."
      ]
    },
    {
      "metadata": {
        "id": "smVtxcQ5mo0h",
        "colab_type": "code",
        "colab": {}
      },
      "cell_type": "code",
      "source": [
        ""
      ],
      "execution_count": 0,
      "outputs": []
    }
  ]
}