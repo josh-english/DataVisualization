{
  "nbformat": 4,
  "nbformat_minor": 0,
  "metadata": {
    "colab": {
      "name": "Midterm.ipynb",
      "version": "0.3.2",
      "provenance": [],
      "collapsed_sections": [],
      "include_colab_link": true
    },
    "kernelspec": {
      "name": "python3",
      "display_name": "Python 3"
    }
  },
  "cells": [
    {
      "cell_type": "markdown",
      "metadata": {
        "id": "view-in-github",
        "colab_type": "text"
      },
      "source": [
        "<a href=\"https://colab.research.google.com/github/josh-english/DataVisualization/blob/master/Midterm.ipynb\" target=\"_parent\"><img src=\"https://colab.research.google.com/assets/colab-badge.svg\" alt=\"Open In Colab\"/></a>"
      ]
    },
    {
      "metadata": {
        "id": "rBZ5BcXERZbG",
        "colab_type": "text"
      },
      "cell_type": "markdown",
      "source": [
        "# Step 1 - Data Preprocessing"
      ]
    },
    {
      "metadata": {
        "id": "G5mYJ8w1RkoQ",
        "colab_type": "text"
      },
      "cell_type": "markdown",
      "source": [
        "## Get the Data"
      ]
    },
    {
      "metadata": {
        "id": "_2y5jjQCRNLX",
        "colab_type": "code",
        "colab": {
          "base_uri": "https://localhost:8080/",
          "height": 287
        },
        "outputId": "a923e305-1670-4572-a570-c273b479fa7a"
      },
      "cell_type": "code",
      "source": [
        "# get data from gensim\n",
        "import gensim.downloader as api\n",
        "\n",
        "print(api.load(\"20-newsgroups\", return_path=False))\n",
        "PATH = \"/root/gensim-data/20-newsgroups/20-newsgroups.gz\"\n",
        "\n",
        "# unzip data to pandas dataframe\n",
        "import pandas as pd\n",
        "df = pd.read_json(PATH, lines=True, compression=\"gzip\")\n",
        "\n",
        "print(df.shape)\n",
        "print(df[0:5])"
      ],
      "execution_count": 27,
      "outputs": [
        {
          "output_type": "stream",
          "text": [
            "<20-newsgroups.Dataset object at 0x7f16bc8b5a20>\n",
            "(18846, 4)\n",
            "                                                data     id    set  \\\n",
            "0  From: db7n+@andrew.cmu.edu (D. Andrew Byler)\\n...  21408  train   \n",
            "1  From: mpaul@unl.edu (marxhausen paul)\\nSubject...  21388  train   \n",
            "2  From: eggertj@moses.atc.ll.mit.edu (Jim Eggert...  20600  train   \n",
            "3  From: tas@pegasus.com (Len Howard)\\nSubject: R...  20820  train   \n",
            "4  From: db7n+@andrew.cmu.edu (D. Andrew Byler)\\n...  21335  train   \n",
            "\n",
            "                    topic  \n",
            "0  soc.religion.christian  \n",
            "1  soc.religion.christian  \n",
            "2  soc.religion.christian  \n",
            "3  soc.religion.christian  \n",
            "4  soc.religion.christian  \n"
          ],
          "name": "stdout"
        }
      ]
    }
  ]
}